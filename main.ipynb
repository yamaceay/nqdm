{
 "cells": [
  {
   "cell_type": "code",
   "execution_count": 1,
   "metadata": {},
   "outputs": [],
   "source": [
    "from nqdm import nqdm"
   ]
  },
  {
   "cell_type": "code",
   "execution_count": 4,
   "metadata": {},
   "outputs": [
    {
     "name": "stderr",
     "output_type": "stream",
     "text": [
      "0it [00:00, ?it/s]"
     ]
    }
   ],
   "source": [
    "new_it = nqdm(100, random=True)"
   ]
  },
  {
   "cell_type": "code",
   "execution_count": 8,
   "metadata": {},
   "outputs": [
    {
     "name": "stdout",
     "output_type": "stream",
     "text": [
      "\n",
      "\n",
      "99\n",
      "36\n",
      "16\n",
      "3\n",
      "71\n",
      "29\n",
      "86\n",
      "90\n",
      "15\n",
      "81\n",
      "51\n",
      "6\n",
      "12\n",
      "70\n",
      "67\n",
      "62\n",
      "55\n",
      "5\n",
      "39\n",
      "17\n",
      "22\n",
      "94\n",
      "19\n",
      "57\n",
      "63\n",
      "14\n",
      "80\n",
      "96\n",
      "4\n",
      "64\n",
      "58\n",
      "92\n",
      "2\n",
      "0\n",
      "93\n",
      "69\n",
      "77\n",
      "28\n",
      "79\n",
      "49\n",
      "27\n",
      "66\n",
      "10\n",
      "20\n",
      "41\n",
      "18\n",
      "1\n",
      "85\n",
      "53\n",
      "76\n",
      "7\n",
      "48\n",
      "42\n",
      "73\n",
      "23\n",
      "38\n",
      "44\n",
      "47\n",
      "82\n",
      "95\n",
      "59\n",
      "68\n",
      "11\n",
      "89\n",
      "91\n",
      "87\n",
      "33\n",
      "46\n",
      "75\n",
      "35\n",
      "13\n",
      "21\n",
      "43\n",
      "56\n",
      "60\n",
      "65\n",
      "9\n",
      "30\n",
      "45\n",
      "52\n",
      "98\n",
      "32\n",
      "54\n",
      "78\n",
      "61\n",
      "72\n",
      "40\n",
      "97\n",
      "50\n",
      "83\n",
      "88\n",
      "26\n",
      "8\n",
      "37\n",
      "25\n",
      "74\n",
      "31\n",
      "34\n",
      "84\n",
      "24\n"
     ]
    }
   ],
   "source": [
    "for i in new_it:\n",
    "    print(i)"
   ]
  }
 ],
 "metadata": {
  "interpreter": {
   "hash": "31f2aee4e71d21fbe5cf8b01ff0e069b9275f58929596ceb00d14d90e3e16cd6"
  },
  "kernelspec": {
   "display_name": "Python 3.8.9 64-bit",
   "language": "python",
   "name": "python3"
  },
  "language_info": {
   "codemirror_mode": {
    "name": "ipython",
    "version": 3
   },
   "file_extension": ".py",
   "mimetype": "text/x-python",
   "name": "python",
   "nbconvert_exporter": "python",
   "pygments_lexer": "ipython3",
   "version": "3.8.9"
  },
  "orig_nbformat": 4
 },
 "nbformat": 4,
 "nbformat_minor": 2
}
