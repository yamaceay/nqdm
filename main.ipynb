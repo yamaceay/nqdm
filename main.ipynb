{
 "cells": [
  {
   "cell_type": "markdown",
   "metadata": {},
   "source": [
    "##  NQDM: Introduction"
   ]
  },
  {
   "cell_type": "markdown",
   "metadata": {},
   "source": [
    "In this tutorial, we will see some examples of how to get rid of some code smells in your program with minimal effort using NQDM.\n",
    "If you followed the setup instructions in README.md, you are ready to go!\n",
    "\n",
    "First things first, let's import the modules:"
   ]
  },
  {
   "cell_type": "code",
   "execution_count": 18,
   "metadata": {},
   "outputs": [],
   "source": [
    "from nqdm import nqdm\n",
    "import numpy as np\n",
    "import pandas as pd\n",
    "import random"
   ]
  },
  {
   "cell_type": "markdown",
   "metadata": {},
   "source": [
    "### Level 1: Simple iteration"
   ]
  },
  {
   "cell_type": "markdown",
   "metadata": {},
   "source": [
    "If input is a number, it is a length variable and interpreted as integer."
   ]
  },
  {
   "cell_type": "code",
   "execution_count": 2,
   "metadata": {},
   "outputs": [
    {
     "name": "stderr",
     "output_type": "stream",
     "text": [
      "Days per week: 100%|██████████| 7/7 [00:00<00:00, 1771.24it/s]\n",
      "Months in winter: 100%|██████████| 3/3 [00:00<00:00, 4166.53it/s]"
     ]
    },
    {
     "name": "stdout",
     "output_type": "stream",
     "text": [
      "\n",
      "\n",
      "0\n",
      "1\n",
      "2\n",
      "3\n",
      "4\n",
      "5\n",
      "6\n",
      "\n",
      "\n",
      "0\n",
      "1\n",
      "2\n"
     ]
    },
    {
     "name": "stderr",
     "output_type": "stream",
     "text": [
      "\n"
     ]
    }
   ],
   "source": [
    "lenWeeks = 52\n",
    "lenDays = 365\n",
    "winterMonths = [\"december\", \"january\", \"february\"]\n",
    "\n",
    "len_1 = lenDays / lenWeeks\n",
    "len_2 = len(winterMonths)\n",
    "\n",
    "for i in nqdm(len_1, desc=\"Days per week\"):\n",
    "  print(i)\n",
    "\n",
    "for i in nqdm(len_2, desc=\"Months in winter\"):\n",
    "  print(i)"
   ]
  },
  {
   "cell_type": "markdown",
   "metadata": {},
   "source": [
    "If input is a list or Numpy array, it is interpreted as iterable."
   ]
  },
  {
   "cell_type": "code",
   "execution_count": 3,
   "metadata": {},
   "outputs": [
    {
     "name": "stderr",
     "output_type": "stream",
     "text": [
      "1, 2, 3: 100%|██████████| 3/3 [00:00<00:00, 9799.78it/s]\n",
      "4, 5, 6: 100%|██████████| 3/3 [00:00<00:00, 3968.12it/s]"
     ]
    },
    {
     "name": "stdout",
     "output_type": "stream",
     "text": [
      "\n",
      "\n",
      "1\n",
      "2\n",
      "3\n",
      "\n",
      "\n",
      "4\n",
      "5\n",
      "6\n"
     ]
    },
    {
     "name": "stderr",
     "output_type": "stream",
     "text": [
      "\n"
     ]
    }
   ],
   "source": [
    "arg_1 = [1, 2, 3]\n",
    "arg_2 = np.array([4, 5, 6])\n",
    "\n",
    "for i in nqdm(arg_1, desc=\"1, 2, 3\"):\n",
    "  print(i)\n",
    "\n",
    "for i in nqdm(arg_2, desc=\"4, 5, 6\"):\n",
    "  print(i)"
   ]
  },
  {
   "cell_type": "markdown",
   "metadata": {},
   "source": [
    "Strings, too, are iterable objects, since they are basically list of chars."
   ]
  },
  {
   "cell_type": "code",
   "execution_count": 4,
   "metadata": {},
   "outputs": [
    {
     "name": "stderr",
     "output_type": "stream",
     "text": [
      "a, b, c: 100%|██████████| 3/3 [00:00<00:00, 5318.22it/s]\n",
      "d, e, f: 100%|██████████| 3/3 [00:00<00:00, 5952.18it/s]"
     ]
    },
    {
     "name": "stdout",
     "output_type": "stream",
     "text": [
      "\n",
      "\n",
      "a\n",
      "b\n",
      "c\n",
      "\n",
      "\n",
      "d\n",
      "e\n",
      "f\n"
     ]
    },
    {
     "name": "stderr",
     "output_type": "stream",
     "text": [
      "\n"
     ]
    }
   ],
   "source": [
    "arg_1 = list(\"abc\")\n",
    "arg_2 = \"def\"\n",
    "\n",
    "for i in nqdm(arg_1, desc=\"a, b, c\"):\n",
    "  print(i)\n",
    "\n",
    "for i in nqdm(arg_2, desc=\"d, e, f\"):\n",
    "  print(i)"
   ]
  },
  {
   "cell_type": "markdown",
   "metadata": {},
   "source": [
    "Dictionaries and Pandas Dataframes are interpreted as list of key-value pairs, which can be iterated as well."
   ]
  },
  {
   "cell_type": "code",
   "execution_count": 5,
   "metadata": {},
   "outputs": [
    {
     "name": "stderr",
     "output_type": "stream",
     "text": [
      "person data: 100%|██████████| 2/2 [00:00<00:00, 4588.95it/s]\n",
      "grocery inventory: 100%|██████████| 3/3 [00:00<00:00, 2874.12it/s]"
     ]
    },
    {
     "name": "stdout",
     "output_type": "stream",
     "text": [
      "\n",
      "\n",
      "{'name': 'aaron'}\n",
      "{'age': 50}\n",
      "\n",
      "\n",
      "{'peppers': 4}\n",
      "{'eggplants': 87}\n",
      "{'cucumbers': 90}\n"
     ]
    },
    {
     "name": "stderr",
     "output_type": "stream",
     "text": [
      "\n"
     ]
    }
   ],
   "source": [
    "arg_1 = {\"name\": \"aaron\", \"age\": 50}\n",
    "arg_2 = pd.Series([4, 87, 90], index=[\"peppers\", \"eggplants\", \"cucumbers\"])\n",
    "\n",
    "for i in nqdm(arg_1, desc=\"person data\"):\n",
    "  print(i)\n",
    "  \n",
    "for i in nqdm(arg_2, desc=\"grocery inventory\"):\n",
    "  print(i)"
   ]
  },
  {
   "cell_type": "markdown",
   "metadata": {},
   "source": [
    "For a more detailled explanation, please read the following markdown:"
   ]
  },
  {
   "cell_type": "markdown",
   "metadata": {},
   "source": [
    "### Working With Different Data Types\n",
    "\n",
    "There are three types of arguments: \n",
    "1. constant: returns `0, ..., constant-1`\n",
    "2. iterable: returns `iterable[0], ..., iterable[-1]`\n",
    "3. hashable: returns `{keys[0]: values[0]}, ..., {keys[-1]: values[-1]}`\n",
    "\n",
    "A more detailled list of available arguments and return values:\n",
    "\n",
    "| Argument | Type of Argument                | Returns                                                   |\n",
    "|----------|---------------------------------|-----------------------------------------------------------|\n",
    "| constant | int, float, double              | range(int(constant))                                      |\n",
    "| iterable | numpy.ndarray, range, list, str | list(iterable)                                            |\n",
    "| hashable | pandas.core.series.Series       | [{k: v} for k, v in zip(hashable.index, hashable.values)] |\n",
    "| hashable | dict                            | [{k: v} for k, v in hashable.items()]                     |\n"
   ]
  },
  {
   "cell_type": "markdown",
   "metadata": {},
   "source": [
    "### Level 2: Customized Iteration"
   ]
  },
  {
   "cell_type": "markdown",
   "metadata": {},
   "source": [
    "##### Tip 1: Don't Slice Lists Inside Iterators, Do This Instead"
   ]
  },
  {
   "cell_type": "code",
   "execution_count": 15,
   "metadata": {},
   "outputs": [
    {
     "name": "stderr",
     "output_type": "stream",
     "text": [
      "letters: 0it [00:00, ?it/s]\n",
      "letters: 100%|██████████| 10/10 [00:00<00:00, 10810.06it/s]\n",
      "\n",
      "letters: 100%|██████████| 10/10 [00:00<00:00, 8858.09it/s]"
     ]
    },
    {
     "name": "stdout",
     "output_type": "stream",
     "text": [
      "\n",
      "\n",
      "A\n",
      "B\n",
      "C\n",
      "D\n",
      "E\n",
      "F\n",
      "G\n",
      "H\n",
      "I\n",
      "J\n",
      "\n",
      "\n",
      "a\n",
      "b\n",
      "c\n",
      "d\n",
      "e\n",
      "f\n",
      "g\n",
      "h\n",
      "i\n",
      "j\n"
     ]
    },
    {
     "name": "stderr",
     "output_type": "stream",
     "text": [
      "\n"
     ]
    }
   ],
   "source": [
    "numbers = list(range(256))\n",
    "chars = list(map(chr, numbers))\n",
    "\n",
    "# for i in chars[65:75]:\n",
    "#     print(i)\n",
    "\n",
    "# for i in chars[97:107]:\n",
    "#     print(i)\n",
    "\n",
    "itr = nqdm(chars, desc=\"letters\")\n",
    "\n",
    "for i in itr[65:75]:\n",
    "    print(i)\n",
    "\n",
    "for i in itr[97:107]:\n",
    "    print(i)"
   ]
  },
  {
   "cell_type": "markdown",
   "metadata": {},
   "source": [
    "##### Tip 2: Don't Use `random.shuffle()`, Do This Instead"
   ]
  },
  {
   "cell_type": "markdown",
   "metadata": {},
   "source": [
    "You can define an iterator object which randomizes the order of elements each time it is used to iterate, using `random=True`. \n",
    "Basically, it makes a set of tuples out of list of tuples."
   ]
  },
  {
   "cell_type": "code",
   "execution_count": 32,
   "metadata": {},
   "outputs": [
    {
     "name": "stderr",
     "output_type": "stream",
     "text": [
      "\n",
      "letters: 100%|██████████| 6/6 [00:00<00:00, 5440.08it/s]"
     ]
    },
    {
     "name": "stdout",
     "output_type": "stream",
     "text": [
      "\n",
      "\n",
      "c\n",
      "f\n",
      "a\n",
      "e\n",
      "b\n",
      "d\n",
      "\n",
      "\n",
      "c\n",
      "d\n",
      "f\n",
      "a\n",
      "b\n",
      "e\n"
     ]
    },
    {
     "name": "stderr",
     "output_type": "stream",
     "text": [
      "\n"
     ]
    }
   ],
   "source": [
    "old_list = list(\"abcdef\")\n",
    "\n",
    "# random.shuffle(old_list)\n",
    "# for i in old_list:\n",
    "#     print(i)\n",
    "\n",
    "# random.shuffle(old_list)\n",
    "# for i in old_list:\n",
    "#     print(i) \n",
    "\n",
    "itr = nqdm(old_list, random=True, desc=\"letters\")\n",
    "\n",
    "for i in itr:\n",
    "    print(i)\n",
    "\n",
    "for i in itr:\n",
    "    print(i)"
   ]
  },
  {
   "cell_type": "markdown",
   "metadata": {},
   "source": [
    "Using enum at the same time, you can track the original position of arguments: `enum=True`. \n",
    "So it makes list of tuples out of sets of tuples."
   ]
  },
  {
   "cell_type": "code",
   "execution_count": 30,
   "metadata": {},
   "outputs": [
    {
     "name": "stderr",
     "output_type": "stream",
     "text": [
      "\n",
      "enumerated random letters: 100%|██████████| 10/10 [00:00<00:00, 14665.40it/s]"
     ]
    },
    {
     "name": "stdout",
     "output_type": "stream",
     "text": [
      "\n",
      "\n",
      "(74, 'J')\n",
      "(71, 'G')\n",
      "(70, 'F')\n",
      "(67, 'C')\n",
      "(72, 'H')\n",
      "(73, 'I')\n",
      "(68, 'D')\n",
      "(65, 'A')\n",
      "(69, 'E')\n",
      "(66, 'B')\n"
     ]
    },
    {
     "name": "stderr",
     "output_type": "stream",
     "text": [
      "\n"
     ]
    }
   ],
   "source": [
    "numbers = list(range(256))\n",
    "chars = list(map(chr, numbers))\n",
    "\n",
    "# enumerated_list = list(enumerate(chars))[65:75]\n",
    "# random.shuffle(enumerated_list)\n",
    "\n",
    "# for i in enumerated_list:\n",
    "#     print(i)\n",
    "\n",
    "itr = nqdm(chars, random=True, enum=True, desc=\"enumerated random letters\")\n",
    "for i in itr[65:75]:\n",
    "    print(i)"
   ]
  },
  {
   "cell_type": "markdown",
   "metadata": {},
   "source": [
    "##### Tip 3: Don't Write Multiple Loops, Do This Instead"
   ]
  },
  {
   "cell_type": "markdown",
   "metadata": {},
   "source": [
    "Instead of defining multiple progress bars and multiple loops, you can iterate over multiple lists / dicts."
   ]
  },
  {
   "cell_type": "code",
   "execution_count": 44,
   "metadata": {},
   "outputs": [
    {
     "name": "stderr",
     "output_type": "stream",
     "text": [
      "100%|██████████| 9/9 [00:00<00:00, 23073.80it/s]"
     ]
    },
    {
     "name": "stdout",
     "output_type": "stream",
     "text": [
      "\n",
      "\n",
      "['black', 'pencil']\n",
      "['red', 'pencil']\n",
      "['blue', 'pencil']\n",
      "['black', 'pen']\n",
      "['red', 'pen']\n",
      "['blue', 'pen']\n",
      "['black', 'eraser']\n",
      "['red', 'eraser']\n",
      "['blue', 'eraser']\n"
     ]
    },
    {
     "name": "stderr",
     "output_type": "stream",
     "text": [
      "\n"
     ]
    }
   ],
   "source": [
    "list_1 = [\"black\", \"red\", \"blue\"]\n",
    "list_2 = [\"pencil\", \"pen\", \"eraser\"]\n",
    "\n",
    "# for i2 in list_2:\n",
    "#     for i1 in list_1:\n",
    "#         print([i1, i2])\n",
    "\n",
    "for i in nqdm(list_1, list_2):\n",
    "    print(i)"
   ]
  },
  {
   "cell_type": "markdown",
   "metadata": {},
   "source": [
    "##### Tip 4: Don't Write Multiple Loops Over A Nested List, Do This Instead "
   ]
  },
  {
   "cell_type": "markdown",
   "metadata": {},
   "source": [
    "You can also iterate over a higher-dimensional list using `depth={# levels to flatten}`."
   ]
  },
  {
   "cell_type": "code",
   "execution_count": 36,
   "metadata": {},
   "outputs": [
    {
     "name": "stderr",
     "output_type": "stream",
     "text": [
      "100%|██████████| 2/2 [00:00<00:00, 189.25it/s]\n",
      "100%|██████████| 4/4 [00:00<00:00, 3407.93it/s]\n",
      "100%|██████████| 8/8 [00:00<00:00, 16912.52it/s]"
     ]
    },
    {
     "name": "stdout",
     "output_type": "stream",
     "text": [
      "\n",
      "\n",
      "[[0 1]\n",
      " [2 3]]\n",
      "[[4 5]\n",
      " [6 7]]\n",
      "\n",
      "\n",
      "[0 1]\n",
      "[2 3]\n",
      "[4 5]\n",
      "[6 7]\n",
      "\n",
      "\n",
      "0\n",
      "1\n",
      "2\n",
      "3\n",
      "4\n",
      "5\n",
      "6\n",
      "7\n"
     ]
    },
    {
     "name": "stderr",
     "output_type": "stream",
     "text": [
      "\n"
     ]
    }
   ],
   "source": [
    "list_of_list_of_lists = np.arange(8).reshape(2, 2, 2)\n",
    "\n",
    "for list_of_lists in nqdm(list_of_list_of_lists, depth=0):\n",
    "  print(list_of_lists)\n",
    "\n",
    "# for list_of_lists in list_of_list_of_lists:\n",
    "#   for lists in list_of_lists:\n",
    "#     print(lists)\n",
    "\n",
    "for arr in nqdm(list_of_list_of_lists, depth=1):\n",
    "  print(arr)\n",
    "\n",
    "# for list_of_lists in list_of_list_of_lists:\n",
    "#   for lists in list_of_lists:\n",
    "#     for item in lists:\n",
    "#       print(lists)\n",
    "\n",
    "for arr in nqdm(list_of_list_of_lists, depth=2):\n",
    "  print(arr)"
   ]
  },
  {
   "cell_type": "markdown",
   "metadata": {},
   "source": [
    "Not only lists but also dicts are suitable for deeper iterations."
   ]
  },
  {
   "cell_type": "code",
   "execution_count": 40,
   "metadata": {},
   "outputs": [
    {
     "name": "stderr",
     "output_type": "stream",
     "text": [
      "100%|██████████| 8/8 [00:00<00:00, 8013.96it/s]"
     ]
    },
    {
     "name": "stdout",
     "output_type": "stream",
     "text": [
      "\n",
      "\n",
      "0\n",
      "1\n",
      "2\n",
      "3\n",
      "4\n",
      "5\n",
      "6\n",
      "7\n"
     ]
    },
    {
     "name": "stderr",
     "output_type": "stream",
     "text": [
      "\n"
     ]
    }
   ],
   "source": [
    "list_of_dict_of_lists = [{\"a\": [0, 1], \"b\": [2, 3]}, {\"a\": [4, 5], \"b\": [6, 7]}]\n",
    "\n",
    "# for dict_of_lists in list_of_dict_of_lists:\n",
    "#   for lists in dict_of_lists.values():\n",
    "#     for item in lists:\n",
    "#       print(item)\n",
    "\n",
    "for elem in nqdm(list_of_dict_of_lists, depth=2):\n",
    "  print(elem)"
   ]
  },
  {
   "cell_type": "markdown",
   "metadata": {},
   "source": [
    "But if multiple arguments are given, it is better to specify the depth of each argument: `depth=[# levels of arg 1, …, # levels of arg n]`."
   ]
  },
  {
   "cell_type": "code",
   "execution_count": 47,
   "metadata": {},
   "outputs": [
    {
     "name": "stderr",
     "output_type": "stream",
     "text": [
      "100%|██████████| 64/64 [00:00<00:00, 47334.77it/s]"
     ]
    },
    {
     "name": "stdout",
     "output_type": "stream",
     "text": [
      "\n",
      "\n",
      "['alpha', 1]\n",
      "['beta', 1]\n",
      "['gamma', 1]\n",
      "['delta', 1]\n",
      "['epsilon', 1]\n",
      "['zeta', 1]\n",
      "['eta', 1]\n",
      "['theta', 1]\n",
      "['alpha', 2]\n",
      "['beta', 2]\n",
      "['gamma', 2]\n",
      "['delta', 2]\n",
      "['epsilon', 2]\n",
      "['zeta', 2]\n",
      "['eta', 2]\n",
      "['theta', 2]\n",
      "['alpha', 3]\n",
      "['beta', 3]\n",
      "['gamma', 3]\n",
      "['delta', 3]\n",
      "['epsilon', 3]\n",
      "['zeta', 3]\n",
      "['eta', 3]\n",
      "['theta', 3]\n",
      "['alpha', 4]\n",
      "['beta', 4]\n",
      "['gamma', 4]\n",
      "['delta', 4]\n",
      "['epsilon', 4]\n",
      "['zeta', 4]\n",
      "['eta', 4]\n",
      "['theta', 4]\n",
      "['alpha', 5]\n",
      "['beta', 5]\n",
      "['gamma', 5]\n",
      "['delta', 5]\n",
      "['epsilon', 5]\n",
      "['zeta', 5]\n",
      "['eta', 5]\n",
      "['theta', 5]\n",
      "['alpha', 6]\n",
      "['beta', 6]\n",
      "['gamma', 6]\n",
      "['delta', 6]\n",
      "['epsilon', 6]\n",
      "['zeta', 6]\n",
      "['eta', 6]\n",
      "['theta', 6]\n",
      "['alpha', 7]\n",
      "['beta', 7]\n",
      "['gamma', 7]\n",
      "['delta', 7]\n",
      "['epsilon', 7]\n",
      "['zeta', 7]\n",
      "['eta', 7]\n",
      "['theta', 7]\n",
      "['alpha', 8]\n",
      "['beta', 8]\n",
      "['gamma', 8]\n",
      "['delta', 8]\n",
      "['epsilon', 8]\n",
      "['zeta', 8]\n",
      "['eta', 8]\n",
      "['theta', 8]\n"
     ]
    },
    {
     "name": "stderr",
     "output_type": "stream",
     "text": [
      "\n"
     ]
    }
   ],
   "source": [
    "list_1_complex = [[\"alpha\", \"beta\"], [\"gamma\", \"delta\"], [\"epsilon\", \"zeta\"], [\"eta\", \"theta\"]]\n",
    "list_2_complex = [[{\"alpha\": 1}, {\"beta\": 2}, {\"gamma\": 3}, {\"delta\": 4}], [{\"epsilon\": 5}, {\"zeta\": 6}, {\"eta\": 7}, {\"theta\": 8}]]\n",
    "\n",
    "# for list_2_complex_1 in list_2_complex:\n",
    "#   for list_2_complex_2 in list_2_complex_1:\n",
    "#     for list_2_complex_3 in list_2_complex_2.values():\n",
    "#       for list_1_complex_1 in list_1_complex:\n",
    "#         for list_1_complex_2 in list_1_complex_1:\n",
    "#           print([list_1_complex_2, list_2_complex_3])\n",
    "\n",
    "\n",
    "for elems in nqdm(list_1_complex, list_2_complex, depth=[1, 3]):\n",
    "  print(elems)"
   ]
  },
  {
   "cell_type": "markdown",
   "metadata": {},
   "source": [
    "##### Tip 5: Don't Switch The For Loops, Do This Instead"
   ]
  },
  {
   "cell_type": "markdown",
   "metadata": {},
   "source": [
    "Using  `order = 'first' | 'last' | [<order of iteration of arg 1>, …, <order of iteration of arg n>]`, you can customize the iteration order."
   ]
  },
  {
   "cell_type": "code",
   "execution_count": 52,
   "metadata": {},
   "outputs": [
    {
     "name": "stderr",
     "output_type": "stream",
     "text": [
      "100%|██████████| 8/8 [00:00<00:00, 15563.28it/s]"
     ]
    },
    {
     "name": "stdout",
     "output_type": "stream",
     "text": [
      "[0, 0, 0]\n",
      "[0, 0, 1]\n",
      "[1, 0, 0]\n",
      "[1, 0, 1]\n",
      "[0, 1, 0]\n",
      "[0, 1, 1]\n",
      "[1, 1, 0]\n",
      "[1, 1, 1]\n",
      "\n",
      "\n",
      "[0, 0, 0]\n",
      "[0, 0, 1]\n",
      "[1, 0, 0]\n",
      "[1, 0, 1]\n",
      "[0, 1, 0]\n",
      "[0, 1, 1]\n",
      "[1, 1, 0]\n",
      "[1, 1, 1]\n"
     ]
    },
    {
     "name": "stderr",
     "output_type": "stream",
     "text": [
      "\n"
     ]
    }
   ],
   "source": [
    "# for dim1 in range(2):\n",
    "#     for dim2 in range(2):\n",
    "#         for dim3 in range(2):\n",
    "#             print([dim1, dim2, dim3])\n",
    "\n",
    "for i in nqdm(2, 2, 2, order = \"last\"):\n",
    "    print(i)\n",
    "\n",
    "# for dim3 in range(2):\n",
    "#     for dim2 in range(2):\n",
    "#         for dim1 in range(2):\n",
    "#             print([dim1, dim2, dim3])\n",
    "\n",
    "for i in nqdm(2, 2, 2, order = \"first\"):\n",
    "    print(i)\n",
    "\n",
    "# for dim2 in range(2):\n",
    "#     for dim1 in range(2):\n",
    "#         for dim3 in range(2):\n",
    "#             print([dim1, dim2, dim3])\n",
    "\n",
    "for i in nqdm(2, 2, 2, order = [1, 2, 0]):\n",
    "    print(i)"
   ]
  },
  {
   "cell_type": "code",
   "execution_count": null,
   "metadata": {},
   "outputs": [],
   "source": []
  }
 ],
 "metadata": {
  "language_info": {
   "name": "python"
  },
  "orig_nbformat": 4
 },
 "nbformat": 4,
 "nbformat_minor": 2
}
